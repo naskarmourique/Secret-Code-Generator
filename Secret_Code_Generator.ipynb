{
 "cells": [
  {
   "cell_type": "markdown",
   "id": "36d97a8d",
   "metadata": {},
   "source": [
    "\n",
    "# 🔐 Secret Code Generator \n",
    "\n",
    "### 🎯 Objective\n",
    "In this assignment, we’ll create a **Secret Code Generator** that can:\n",
    "- Encode a message by shifting letters using a Caesar cipher approach.\n",
    "- Decode a coded message back to its original form.\n",
    "- Allow the user to choose between encoding, decoding, or exiting via a simple menu.\n",
    "\n",
    "This project helps practice **functions, loops, string manipulation, and basic input handling** in Python.\n"
   ]
  },
  {
   "cell_type": "markdown",
   "id": "843cc87a",
   "metadata": {},
   "source": [
    "\n",
    "## 🧠 Program Overview\n",
    "\n",
    "We will use a **Caesar cipher** logic — a type of substitution cipher where each letter in the plaintext is shifted a certain number of places down or up the alphabet.\n",
    "\n",
    "### Example:\n",
    "- Original: `HELLO`\n",
    "- Shift: `2`\n",
    "- Encoded: `JGNNQ`\n",
    "\n",
    "### Key Points:\n",
    "- Handle both uppercase and lowercase letters.\n",
    "- Ignore non-letter characters (spaces, punctuation, digits).\n",
    "- Support wrapping (e.g., shifting `Z` by 2 → `B`)."
   ]
  },
  {
   "cell_type": "markdown",
   "id": "413a545b",
   "metadata": {},
   "source": [
    "\n",
    "## 🧩 Function Definitions\n",
    "We’ll define three main functions:\n",
    "1. `encode_message(message, shift)` → Encodes the message.\n",
    "2. `decode_message(message, shift)` → Decodes the message.\n",
    "3. `menu()` → Handles user input and menu options.\n"
   ]
  },
  {
   "cell_type": "code",
   "execution_count": 3,
   "id": "0b6fb3e4",
   "metadata": {},
   "outputs": [],
   "source": [
    "\n",
    "def encode_message(message, shift):\n",
    "    '''\n",
    "    Encodes a message by shifting each alphabet character forward by 'shift' positions.\n",
    "    Non-alphabetic characters are not changed.\n",
    "    '''\n",
    "    encoded = \"\"\n",
    "    for char in message:\n",
    "        if char.isalpha():\n",
    "            base = ord('A') if char.isupper() else ord('a')\n",
    "            # Shift within 26 letters and wrap around using modulo\n",
    "            new_char = chr((ord(char) - base + shift) % 26 + base)\n",
    "            encoded += new_char\n",
    "        else:\n",
    "            encoded += char  # Keep spaces/punctuation unchanged\n",
    "    return encoded\n",
    "\n",
    "\n",
    "def decode_message(message, shift):\n",
    "    '''\n",
    "    Decodes a message by shifting each alphabet character backward by 'shift' positions.\n",
    "    Non-alphabetic characters remain unchanged.\n",
    "    '''\n",
    "    decoded = \"\"\n",
    "    for char in message:\n",
    "        if char.isalpha():\n",
    "            base = ord('A') if char.isupper() else ord('a')\n",
    "            # Shift backward and wrap around\n",
    "            new_char = chr((ord(char) - base - shift) % 26 + base)\n",
    "            decoded += new_char\n",
    "        else:\n",
    "            decoded += char\n",
    "    return decoded\n"
   ]
  },
  {
   "cell_type": "markdown",
   "id": "5821767e",
   "metadata": {},
   "source": [
    "\n",
    "## 🖥️ Main Program Execution\n",
    "The menu lets the user choose whether to encode, decode, or exit.\n"
   ]
  },
  {
   "cell_type": "code",
   "execution_count": 4,
   "id": "3b48db12",
   "metadata": {},
   "outputs": [],
   "source": [
    "\n",
    "def menu():\n",
    "    print(\"=== Secret Code Generator ===\")\n",
    "    while True:\n",
    "        print(\"\\nChoose an option:\")\n",
    "        print(\"1. Encode a message\")\n",
    "        print(\"2. Decode a message\")\n",
    "        print(\"3. Exit\")\n",
    "        \n",
    "        choice = input(\"Enter your choice (1/2/3): \").strip()\n",
    "        \n",
    "        if choice == '1':\n",
    "            message = input(\"Enter the message to encode: \")\n",
    "            try:\n",
    "                shift = int(input(\"Enter shift value (e.g., 2): \"))\n",
    "                print(\"Encoded message:\", encode_message(message, shift))\n",
    "            except ValueError:\n",
    "                print(\"❌ Invalid input. Please enter a valid number for shift.\")\n",
    "        \n",
    "        elif choice == '2':\n",
    "            message = input(\"Enter the message to decode: \")\n",
    "            try:\n",
    "                shift = int(input(\"Enter shift value (used during encoding): \"))\n",
    "                print(\"Decoded message:\", decode_message(message, shift))\n",
    "            except ValueError:\n",
    "                print(\"❌ Invalid input. Please enter a valid number for shift.\")\n",
    "        \n",
    "        elif choice == '3':\n",
    "            print(\"👋 Exiting program. Goodbye!\")\n",
    "            break\n",
    "        \n",
    "        else:\n",
    "            print(\"❌ Invalid choice. Please select 1, 2, or 3.\")\n",
    "\n",
    "# Run the menu (uncomment the line below to run interactively)\n",
    "# menu()\n"
   ]
  },
  {
   "cell_type": "markdown",
   "id": "1e5ee6e6",
   "metadata": {},
   "source": [
    "\n",
    "## 🧾 Example Outputs\n",
    "Below we test the encode and decode functions directly.\n"
   ]
  },
  {
   "cell_type": "code",
   "execution_count": 6,
   "id": "56c0b8d5",
   "metadata": {},
   "outputs": [
    {
     "name": "stdin",
     "output_type": "stream",
     "text": [
      "Enter Your Message: hi i love you\n"
     ]
    },
    {
     "name": "stdout",
     "output_type": "stream",
     "text": [
      "Original Message: hi i love you\n",
      "Shift Value: 3\n",
      "Encoded Message: kl l oryh brx\n",
      "Decoded Message: hi i love you\n"
     ]
    }
   ],
   "source": [
    "\n",
    "# Example usage\n",
    "sample_message = input(\"Enter Your Message:\")\n",
    "shift_value = 3\n",
    "\n",
    "encoded = encode_message(sample_message, shift_value)\n",
    "decoded = decode_message(encoded, shift_value)\n",
    "\n",
    "print(\"Original Message:\", sample_message)\n",
    "print(\"Shift Value:\", shift_value)\n",
    "print(\"Encoded Message:\", encoded)\n",
    "print(\"Decoded Message:\", decoded)\n"
   ]
  }
 ],
 "metadata": {
  "kernelspec": {
   "display_name": "Python [conda env:base] *",
   "language": "python",
   "name": "conda-base-py"
  },
  "language_info": {
   "codemirror_mode": {
    "name": "ipython",
    "version": 3
   },
   "file_extension": ".py",
   "mimetype": "text/x-python",
   "name": "python",
   "nbconvert_exporter": "python",
   "pygments_lexer": "ipython3",
   "version": "3.13.5"
  }
 },
 "nbformat": 4,
 "nbformat_minor": 5
}
